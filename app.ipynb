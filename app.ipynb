{
 "cells": [
  {
   "cell_type": "code",
   "execution_count": 1,
   "metadata": {},
   "outputs": [],
   "source": [
    "# Resources\n",
    "# https://pypi.org/project/graphviz/"
   ]
  },
  {
   "cell_type": "code",
   "execution_count": 2,
   "metadata": {},
   "outputs": [],
   "source": [
    "import pandas as pd\n",
    "import graphviz\n",
    "import string"
   ]
  },
  {
   "cell_type": "code",
   "execution_count": 3,
   "metadata": {},
   "outputs": [],
   "source": [
    "df = pd.read_excel('Raw Data\\Mock Data.xlsx')"
   ]
  },
  {
   "cell_type": "code",
   "execution_count": 4,
   "metadata": {},
   "outputs": [
    {
     "data": {
      "text/html": [
       "<div>\n",
       "<style scoped>\n",
       "    .dataframe tbody tr th:only-of-type {\n",
       "        vertical-align: middle;\n",
       "    }\n",
       "\n",
       "    .dataframe tbody tr th {\n",
       "        vertical-align: top;\n",
       "    }\n",
       "\n",
       "    .dataframe thead th {\n",
       "        text-align: right;\n",
       "    }\n",
       "</style>\n",
       "<table border=\"1\" class=\"dataframe\">\n",
       "  <thead>\n",
       "    <tr style=\"text-align: right;\">\n",
       "      <th></th>\n",
       "      <th>Empleado</th>\n",
       "      <th>Cargo</th>\n",
       "      <th>Cuenta</th>\n",
       "      <th>Contacto 1</th>\n",
       "      <th>Contacto 2</th>\n",
       "      <th>Contacto 3</th>\n",
       "    </tr>\n",
       "  </thead>\n",
       "  <tbody>\n",
       "    <tr>\n",
       "      <th>0</th>\n",
       "      <td>Luis</td>\n",
       "      <td>Data Analyst</td>\n",
       "      <td>Coca</td>\n",
       "      <td>Javier</td>\n",
       "      <td>Diego</td>\n",
       "      <td>Fernando</td>\n",
       "    </tr>\n",
       "    <tr>\n",
       "      <th>1</th>\n",
       "      <td>Andres</td>\n",
       "      <td>Senior Data Analyst</td>\n",
       "      <td>Coca</td>\n",
       "      <td>Javier</td>\n",
       "      <td>Diego</td>\n",
       "      <td>Juan</td>\n",
       "    </tr>\n",
       "    <tr>\n",
       "      <th>2</th>\n",
       "      <td>Carlos</td>\n",
       "      <td>Data Analyst</td>\n",
       "      <td>Avianca</td>\n",
       "      <td>Julieta</td>\n",
       "      <td>Diego</td>\n",
       "      <td>Eduardo</td>\n",
       "    </tr>\n",
       "    <tr>\n",
       "      <th>3</th>\n",
       "      <td>Fabio</td>\n",
       "      <td>Data Engineer</td>\n",
       "      <td>Avianca</td>\n",
       "      <td>Julieta</td>\n",
       "      <td>Diego</td>\n",
       "      <td>Karina</td>\n",
       "    </tr>\n",
       "    <tr>\n",
       "      <th>4</th>\n",
       "      <td>Andrea</td>\n",
       "      <td>Data Analyst</td>\n",
       "      <td>Avianca</td>\n",
       "      <td>Julieta</td>\n",
       "      <td>Diego</td>\n",
       "      <td>Eduardo</td>\n",
       "    </tr>\n",
       "    <tr>\n",
       "      <th>5</th>\n",
       "      <td>Carolina</td>\n",
       "      <td>Data Analyst</td>\n",
       "      <td>Publicis</td>\n",
       "      <td>Julieta</td>\n",
       "      <td>Jose</td>\n",
       "      <td>Eduardo</td>\n",
       "    </tr>\n",
       "    <tr>\n",
       "      <th>6</th>\n",
       "      <td>Pedro</td>\n",
       "      <td>Data Engineer</td>\n",
       "      <td>Spark</td>\n",
       "      <td>Julieta</td>\n",
       "      <td>Jose</td>\n",
       "      <td>Pablo</td>\n",
       "    </tr>\n",
       "    <tr>\n",
       "      <th>7</th>\n",
       "      <td>Laura</td>\n",
       "      <td>Senior Data Analyst</td>\n",
       "      <td>Spark</td>\n",
       "      <td>Julieta</td>\n",
       "      <td>Jose</td>\n",
       "      <td>Isabella</td>\n",
       "    </tr>\n",
       "    <tr>\n",
       "      <th>8</th>\n",
       "      <td>Maria</td>\n",
       "      <td>Senior Data Analyst</td>\n",
       "      <td>Spark</td>\n",
       "      <td>Julieta</td>\n",
       "      <td>Jose</td>\n",
       "      <td>Isabella</td>\n",
       "    </tr>\n",
       "  </tbody>\n",
       "</table>\n",
       "</div>"
      ],
      "text/plain": [
       "   Empleado                Cargo    Cuenta Contacto 1 Contacto 2 Contacto 3\n",
       "0      Luis         Data Analyst      Coca     Javier      Diego   Fernando\n",
       "1    Andres  Senior Data Analyst      Coca     Javier      Diego       Juan\n",
       "2    Carlos         Data Analyst   Avianca    Julieta      Diego    Eduardo\n",
       "3     Fabio        Data Engineer   Avianca    Julieta      Diego     Karina\n",
       "4    Andrea         Data Analyst   Avianca    Julieta      Diego    Eduardo\n",
       "5  Carolina         Data Analyst  Publicis    Julieta       Jose    Eduardo\n",
       "6     Pedro        Data Engineer     Spark    Julieta       Jose      Pablo\n",
       "7     Laura  Senior Data Analyst     Spark    Julieta       Jose   Isabella\n",
       "8     Maria  Senior Data Analyst     Spark    Julieta       Jose   Isabella"
      ]
     },
     "execution_count": 4,
     "metadata": {},
     "output_type": "execute_result"
    }
   ],
   "source": [
    "df"
   ]
  },
  {
   "cell_type": "code",
   "execution_count": 5,
   "metadata": {},
   "outputs": [
    {
     "data": {
      "text/plain": [
       "'Coca'"
      ]
     },
     "execution_count": 5,
     "metadata": {},
     "output_type": "execute_result"
    }
   ],
   "source": [
    "accounts = df['Cuenta'].unique()\n",
    "accounts[0]"
   ]
  },
  {
   "cell_type": "code",
   "execution_count": 6,
   "metadata": {},
   "outputs": [
    {
     "data": {
      "text/plain": [
       "'\\\\n'"
      ]
     },
     "execution_count": 6,
     "metadata": {},
     "output_type": "execute_result"
    }
   ],
   "source": [
    "next_line = r'\\n'\n",
    "next_line"
   ]
  },
  {
   "cell_type": "code",
   "execution_count": 7,
   "metadata": {},
   "outputs": [],
   "source": [
    "for a in range(len(accounts)):\n",
    "\n",
    "    dot = graphviz.Digraph(comment=accounts[a])\n",
    "    dot  #doctest: +ELLIPSIS\n",
    "\n",
    "    node_count = 1\n",
    "\n",
    "    alphabet = list(string.ascii_uppercase)\n",
    "\n",
    "    for i in df.index:\n",
    "        contact1 = df['Contacto 1'][i]\n",
    "        contact2 = df['Contacto 2'][i]\n",
    "        contact3 = df['Contacto 3'][i]\n",
    "\n",
    "        employee = df['Empleado'][i]\n",
    "        position = df['Cargo'][i]   \n",
    "\n",
    "        dot.node('A', accounts[a])\n",
    "\n",
    "        if df['Cuenta'][i] == accounts[a]:\n",
    "            node2 = alphabet[node_count]\n",
    "            dot.node(alphabet[node_count], f'{contact1}{next_line}{contact2}{next_line}{contact3}')\n",
    "            node_count +=1\n",
    "\n",
    "            node3 = alphabet[node_count]\n",
    "            dot.node(alphabet[node_count], f'{employee}{next_line}{position}')\n",
    "            node_count +=1\n",
    "\n",
    "            dot.edges([f'A{node2}', f'{node2}{node3}'])\n",
    "\n",
    "    #print(dot.source)\n",
    "\n",
    "    dot.render(f'doctest-output/{accounts[a]}').replace('\\\\', '/')"
   ]
  },
  {
   "cell_type": "code",
   "execution_count": null,
   "metadata": {},
   "outputs": [],
   "source": []
  }
 ],
 "metadata": {
  "kernelspec": {
   "display_name": "Python 3",
   "language": "python",
   "name": "python3"
  },
  "language_info": {
   "codemirror_mode": {
    "name": "ipython",
    "version": 3
   },
   "file_extension": ".py",
   "mimetype": "text/x-python",
   "name": "python",
   "nbconvert_exporter": "python",
   "pygments_lexer": "ipython3",
   "version": "3.9.4"
  }
 },
 "nbformat": 4,
 "nbformat_minor": 2
}
